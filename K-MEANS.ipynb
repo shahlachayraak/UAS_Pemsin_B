{
 "cells": [
  {
   "cell_type": "markdown",
   "id": "77d187f1",
   "metadata": {},
   "source": [
    "# IMPORT LIBRARY"
   ]
  },
  {
   "cell_type": "code",
   "execution_count": 1,
   "id": "1b81a219",
   "metadata": {},
   "outputs": [],
   "source": [
    "import pandas as pd\n",
    "import numpy as np\n",
    "import matplotlib.pyplot as plt\n",
    "from sklearn.cluster import KMeans\n",
    "\n",
    "import warnings\n",
    "\n",
    "warnings.filterwarnings(\"ignore\")"
   ]
  },
  {
   "cell_type": "markdown",
   "id": "25046bcd",
   "metadata": {},
   "source": [
    "# MEMBACA DATASET"
   ]
  },
  {
   "cell_type": "code",
   "execution_count": 2,
   "id": "52152509",
   "metadata": {},
   "outputs": [
    {
     "data": {
      "text/html": [
       "<div>\n",
       "<style scoped>\n",
       "    .dataframe tbody tr th:only-of-type {\n",
       "        vertical-align: middle;\n",
       "    }\n",
       "\n",
       "    .dataframe tbody tr th {\n",
       "        vertical-align: top;\n",
       "    }\n",
       "\n",
       "    .dataframe thead th {\n",
       "        text-align: right;\n",
       "    }\n",
       "</style>\n",
       "<table border=\"1\" class=\"dataframe\">\n",
       "  <thead>\n",
       "    <tr style=\"text-align: right;\">\n",
       "      <th></th>\n",
       "      <th>Umur(bulan)</th>\n",
       "      <th>JenisKelamin</th>\n",
       "      <th>TinggiBadan</th>\n",
       "      <th>StatusGizi</th>\n",
       "    </tr>\n",
       "  </thead>\n",
       "  <tbody>\n",
       "    <tr>\n",
       "      <th>0</th>\n",
       "      <td>31</td>\n",
       "      <td>pria</td>\n",
       "      <td>95.0</td>\n",
       "      <td>normal</td>\n",
       "    </tr>\n",
       "    <tr>\n",
       "      <th>1</th>\n",
       "      <td>28</td>\n",
       "      <td>pria</td>\n",
       "      <td>79.8</td>\n",
       "      <td>severely stunted</td>\n",
       "    </tr>\n",
       "    <tr>\n",
       "      <th>2</th>\n",
       "      <td>30</td>\n",
       "      <td>wanita</td>\n",
       "      <td>78.1</td>\n",
       "      <td>severely stunted</td>\n",
       "    </tr>\n",
       "    <tr>\n",
       "      <th>3</th>\n",
       "      <td>54</td>\n",
       "      <td>wanita</td>\n",
       "      <td>107.6</td>\n",
       "      <td>normal</td>\n",
       "    </tr>\n",
       "    <tr>\n",
       "      <th>4</th>\n",
       "      <td>25</td>\n",
       "      <td>pria</td>\n",
       "      <td>84.8</td>\n",
       "      <td>normal</td>\n",
       "    </tr>\n",
       "    <tr>\n",
       "      <th>...</th>\n",
       "      <td>...</td>\n",
       "      <td>...</td>\n",
       "      <td>...</td>\n",
       "      <td>...</td>\n",
       "    </tr>\n",
       "    <tr>\n",
       "      <th>495</th>\n",
       "      <td>14</td>\n",
       "      <td>pria</td>\n",
       "      <td>69.0</td>\n",
       "      <td>severely stunted</td>\n",
       "    </tr>\n",
       "    <tr>\n",
       "      <th>496</th>\n",
       "      <td>15</td>\n",
       "      <td>pria</td>\n",
       "      <td>84.2</td>\n",
       "      <td>normal</td>\n",
       "    </tr>\n",
       "    <tr>\n",
       "      <th>497</th>\n",
       "      <td>25</td>\n",
       "      <td>wanita</td>\n",
       "      <td>85.2</td>\n",
       "      <td>normal</td>\n",
       "    </tr>\n",
       "    <tr>\n",
       "      <th>498</th>\n",
       "      <td>48</td>\n",
       "      <td>pria</td>\n",
       "      <td>86.5</td>\n",
       "      <td>severely stunted</td>\n",
       "    </tr>\n",
       "    <tr>\n",
       "      <th>499</th>\n",
       "      <td>52</td>\n",
       "      <td>wanita</td>\n",
       "      <td>88.7</td>\n",
       "      <td>severely stunted</td>\n",
       "    </tr>\n",
       "  </tbody>\n",
       "</table>\n",
       "<p>500 rows × 4 columns</p>\n",
       "</div>"
      ],
      "text/plain": [
       "     Umur(bulan) JenisKelamin  TinggiBadan        StatusGizi\n",
       "0             31         pria         95.0            normal\n",
       "1             28         pria         79.8  severely stunted\n",
       "2             30       wanita         78.1  severely stunted\n",
       "3             54       wanita        107.6            normal\n",
       "4             25         pria         84.8            normal\n",
       "..           ...          ...          ...               ...\n",
       "495           14         pria         69.0  severely stunted\n",
       "496           15         pria         84.2            normal\n",
       "497           25       wanita         85.2            normal\n",
       "498           48         pria         86.5  severely stunted\n",
       "499           52       wanita         88.7  severely stunted\n",
       "\n",
       "[500 rows x 4 columns]"
      ]
     },
     "execution_count": 2,
     "metadata": {},
     "output_type": "execute_result"
    }
   ],
   "source": [
    "#shahla_202131177\n",
    "data = pd.read_csv(\"data_balita.csv\")\n",
    "data"
   ]
  },
  {
   "cell_type": "code",
   "execution_count": 3,
   "id": "a1179063",
   "metadata": {},
   "outputs": [
    {
     "name": "stdout",
     "output_type": "stream",
     "text": [
      "<class 'pandas.core.frame.DataFrame'>\n",
      "RangeIndex: 500 entries, 0 to 499\n",
      "Data columns (total 4 columns):\n",
      " #   Column        Non-Null Count  Dtype  \n",
      "---  ------        --------------  -----  \n",
      " 0   Umur(bulan)   500 non-null    int64  \n",
      " 1   JenisKelamin  500 non-null    object \n",
      " 2   TinggiBadan   500 non-null    float64\n",
      " 3   StatusGizi    500 non-null    object \n",
      "dtypes: float64(1), int64(1), object(2)\n",
      "memory usage: 15.8+ KB\n"
     ]
    }
   ],
   "source": [
    "data.info()"
   ]
  },
  {
   "cell_type": "code",
   "execution_count": 4,
   "id": "237baa38",
   "metadata": {},
   "outputs": [],
   "source": [
    "from sklearn.preprocessing import LabelEncoder\n",
    "\n",
    "encode = LabelEncoder()\n",
    "data[\"StatusGizi\"] = encode.fit_transform(data[\"StatusGizi\"])"
   ]
  },
  {
   "cell_type": "code",
   "execution_count": 5,
   "id": "4984fb39",
   "metadata": {},
   "outputs": [
    {
     "name": "stdout",
     "output_type": "stream",
     "text": [
      "<class 'pandas.core.frame.DataFrame'>\n",
      "RangeIndex: 500 entries, 0 to 499\n",
      "Data columns (total 4 columns):\n",
      " #   Column        Non-Null Count  Dtype  \n",
      "---  ------        --------------  -----  \n",
      " 0   Umur(bulan)   500 non-null    int64  \n",
      " 1   JenisKelamin  500 non-null    object \n",
      " 2   TinggiBadan   500 non-null    float64\n",
      " 3   StatusGizi    500 non-null    int32  \n",
      "dtypes: float64(1), int32(1), int64(1), object(1)\n",
      "memory usage: 13.8+ KB\n"
     ]
    }
   ],
   "source": [
    "data.info()"
   ]
  },
  {
   "cell_type": "markdown",
   "id": "17891024",
   "metadata": {},
   "source": [
    "# MEMILIH DATA DARI DATASET UNTUK DIGUNAKAN SEBAGAI ATRIBUT X"
   ]
  },
  {
   "cell_type": "code",
   "execution_count": 6,
   "id": "9ebb2819",
   "metadata": {},
   "outputs": [
    {
     "data": {
      "text/html": [
       "<div>\n",
       "<style scoped>\n",
       "    .dataframe tbody tr th:only-of-type {\n",
       "        vertical-align: middle;\n",
       "    }\n",
       "\n",
       "    .dataframe tbody tr th {\n",
       "        vertical-align: top;\n",
       "    }\n",
       "\n",
       "    .dataframe thead th {\n",
       "        text-align: right;\n",
       "    }\n",
       "</style>\n",
       "<table border=\"1\" class=\"dataframe\">\n",
       "  <thead>\n",
       "    <tr style=\"text-align: right;\">\n",
       "      <th></th>\n",
       "      <th>TinggiBadan</th>\n",
       "      <th>StatusGizi</th>\n",
       "    </tr>\n",
       "  </thead>\n",
       "  <tbody>\n",
       "    <tr>\n",
       "      <th>0</th>\n",
       "      <td>95.0</td>\n",
       "      <td>0</td>\n",
       "    </tr>\n",
       "    <tr>\n",
       "      <th>1</th>\n",
       "      <td>79.8</td>\n",
       "      <td>1</td>\n",
       "    </tr>\n",
       "    <tr>\n",
       "      <th>2</th>\n",
       "      <td>78.1</td>\n",
       "      <td>1</td>\n",
       "    </tr>\n",
       "    <tr>\n",
       "      <th>3</th>\n",
       "      <td>107.6</td>\n",
       "      <td>0</td>\n",
       "    </tr>\n",
       "    <tr>\n",
       "      <th>4</th>\n",
       "      <td>84.8</td>\n",
       "      <td>0</td>\n",
       "    </tr>\n",
       "    <tr>\n",
       "      <th>5</th>\n",
       "      <td>108.7</td>\n",
       "      <td>3</td>\n",
       "    </tr>\n",
       "    <tr>\n",
       "      <th>6</th>\n",
       "      <td>95.8</td>\n",
       "      <td>0</td>\n",
       "    </tr>\n",
       "    <tr>\n",
       "      <th>7</th>\n",
       "      <td>102.7</td>\n",
       "      <td>0</td>\n",
       "    </tr>\n",
       "    <tr>\n",
       "      <th>8</th>\n",
       "      <td>107.0</td>\n",
       "      <td>0</td>\n",
       "    </tr>\n",
       "    <tr>\n",
       "      <th>9</th>\n",
       "      <td>105.7</td>\n",
       "      <td>0</td>\n",
       "    </tr>\n",
       "  </tbody>\n",
       "</table>\n",
       "</div>"
      ],
      "text/plain": [
       "   TinggiBadan  StatusGizi\n",
       "0         95.0           0\n",
       "1         79.8           1\n",
       "2         78.1           1\n",
       "3        107.6           0\n",
       "4         84.8           0\n",
       "5        108.7           3\n",
       "6         95.8           0\n",
       "7        102.7           0\n",
       "8        107.0           0\n",
       "9        105.7           0"
      ]
     },
     "execution_count": 6,
     "metadata": {},
     "output_type": "execute_result"
    }
   ],
   "source": [
    "#shahla_202131177\n",
    "data = data[[\"TinggiBadan\",\"StatusGizi\"]]\n",
    "data.head(10)"
   ]
  },
  {
   "cell_type": "markdown",
   "id": "213cbc54",
   "metadata": {},
   "source": [
    "# Melihat Ringkasan Statistik"
   ]
  },
  {
   "cell_type": "code",
   "execution_count": 7,
   "id": "7533d803",
   "metadata": {},
   "outputs": [
    {
     "data": {
      "text/html": [
       "<div>\n",
       "<style scoped>\n",
       "    .dataframe tbody tr th:only-of-type {\n",
       "        vertical-align: middle;\n",
       "    }\n",
       "\n",
       "    .dataframe tbody tr th {\n",
       "        vertical-align: top;\n",
       "    }\n",
       "\n",
       "    .dataframe thead th {\n",
       "        text-align: right;\n",
       "    }\n",
       "</style>\n",
       "<table border=\"1\" class=\"dataframe\">\n",
       "  <thead>\n",
       "    <tr style=\"text-align: right;\">\n",
       "      <th></th>\n",
       "      <th>TinggiBadan</th>\n",
       "      <th>StatusGizi</th>\n",
       "    </tr>\n",
       "  </thead>\n",
       "  <tbody>\n",
       "    <tr>\n",
       "      <th>count</th>\n",
       "      <td>500.000000</td>\n",
       "      <td>500.000000</td>\n",
       "    </tr>\n",
       "    <tr>\n",
       "      <th>mean</th>\n",
       "      <td>89.355914</td>\n",
       "      <td>0.844000</td>\n",
       "    </tr>\n",
       "    <tr>\n",
       "      <th>std</th>\n",
       "      <td>16.740863</td>\n",
       "      <td>1.146426</td>\n",
       "    </tr>\n",
       "    <tr>\n",
       "      <th>min</th>\n",
       "      <td>43.904264</td>\n",
       "      <td>0.000000</td>\n",
       "    </tr>\n",
       "    <tr>\n",
       "      <th>25%</th>\n",
       "      <td>79.775000</td>\n",
       "      <td>0.000000</td>\n",
       "    </tr>\n",
       "    <tr>\n",
       "      <th>50%</th>\n",
       "      <td>90.800000</td>\n",
       "      <td>0.000000</td>\n",
       "    </tr>\n",
       "    <tr>\n",
       "      <th>75%</th>\n",
       "      <td>100.650000</td>\n",
       "      <td>2.000000</td>\n",
       "    </tr>\n",
       "    <tr>\n",
       "      <th>max</th>\n",
       "      <td>124.500000</td>\n",
       "      <td>3.000000</td>\n",
       "    </tr>\n",
       "  </tbody>\n",
       "</table>\n",
       "</div>"
      ],
      "text/plain": [
       "       TinggiBadan  StatusGizi\n",
       "count   500.000000  500.000000\n",
       "mean     89.355914    0.844000\n",
       "std      16.740863    1.146426\n",
       "min      43.904264    0.000000\n",
       "25%      79.775000    0.000000\n",
       "50%      90.800000    0.000000\n",
       "75%     100.650000    2.000000\n",
       "max     124.500000    3.000000"
      ]
     },
     "execution_count": 7,
     "metadata": {},
     "output_type": "execute_result"
    }
   ],
   "source": [
    "#shahla_202131177\n",
    "data.describe()"
   ]
  },
  {
   "cell_type": "code",
   "execution_count": 8,
   "id": "d334bee0",
   "metadata": {},
   "outputs": [
    {
     "data": {
      "image/png": "[encoded data removed]",
      "text/plain": [
       "<Figure size 640x480 with 1 Axes>"
      ]
     },
     "metadata": {},
     "output_type": "display_data"
    }
   ],
   "source": [
    "fig, ax = plt.subplots() #boxplot untuk memberikan gambar visual\n",
    "ax.boxplot(data,\n",
    "          vert = False,\n",
    "          showmeans = True,\n",
    "          meanline = True,\n",
    "          labels = ('statusgizi', \"tinggibadan\"),\n",
    "          patch_artist = True,\n",
    "          medianprops = {\"linewidth\" : 2, \"color\" : \"blue\"},\n",
    "          meanprops = {\"linewidth\" : 2, \"color\" : \"red\"})\n",
    "plt.show()"
   ]
  },
  {
   "cell_type": "code",
   "execution_count": 9,
   "id": "6f0230a9",
   "metadata": {},
   "outputs": [
    {
     "data": {
      "text/plain": [
       "<function matplotlib.pyplot.show(close=None, block=None)>"
      ]
     },
     "execution_count": 9,
     "metadata": {},
     "output_type": "execute_result"
    },
    {
     "data": {
      "image/png": "[encoded data removed]",
      "text/plain": [
       "<Figure size 640x480 with 1 Axes>"
      ]
     },
     "metadata": {},
     "output_type": "display_data"
    }
   ],
   "source": [
    "kolom = [\"TinggiBadan\", \"StatusGizi\"]\n",
    "\n",
    "#menggunakan metode IQR untuk mengidentifikasi dan menghapus outlier\n",
    "Q1 = data[kolom].quantile(0.5)\n",
    "Q3 = data[kolom].quantile(0.75)\n",
    "IQR = Q3-Q1\n",
    "data = data[~((data[kolom]<(Q1 - 1.5 * IQR))|\n",
    "              (data[kolom]>(Q3 + 1.5 * IQR))).any(axis = 1)]\n",
    "\n",
    "plt.boxplot(data[kolom])\n",
    "plt.xticks([1,2], kolom)\n",
    "plt.title(\"Outlier Setelah Dibuang\")\n",
    "plt.show"
   ]
  },
  {
   "cell_type": "code",
   "execution_count": 10,
   "id": "f953a5e7",
   "metadata": {},
   "outputs": [
    {
     "data": {
      "text/html": [
       "<div>\n",
       "<style scoped>\n",
       "    .dataframe tbody tr th:only-of-type {\n",
       "        vertical-align: middle;\n",
       "    }\n",
       "\n",
       "    .dataframe tbody tr th {\n",
       "        vertical-align: top;\n",
       "    }\n",
       "\n",
       "    .dataframe thead th {\n",
       "        text-align: right;\n",
       "    }\n",
       "</style>\n",
       "<table border=\"1\" class=\"dataframe\">\n",
       "  <thead>\n",
       "    <tr style=\"text-align: right;\">\n",
       "      <th></th>\n",
       "      <th>TinggiBadan</th>\n",
       "      <th>StatusGizi</th>\n",
       "    </tr>\n",
       "  </thead>\n",
       "  <tbody>\n",
       "    <tr>\n",
       "      <th>count</th>\n",
       "      <td>377.000000</td>\n",
       "      <td>377.000000</td>\n",
       "    </tr>\n",
       "    <tr>\n",
       "      <th>mean</th>\n",
       "      <td>94.938462</td>\n",
       "      <td>0.793103</td>\n",
       "    </tr>\n",
       "    <tr>\n",
       "      <th>std</th>\n",
       "      <td>10.045854</td>\n",
       "      <td>1.157609</td>\n",
       "    </tr>\n",
       "    <tr>\n",
       "      <th>min</th>\n",
       "      <td>76.100000</td>\n",
       "      <td>0.000000</td>\n",
       "    </tr>\n",
       "    <tr>\n",
       "      <th>25%</th>\n",
       "      <td>87.400000</td>\n",
       "      <td>0.000000</td>\n",
       "    </tr>\n",
       "    <tr>\n",
       "      <th>50%</th>\n",
       "      <td>94.600000</td>\n",
       "      <td>0.000000</td>\n",
       "    </tr>\n",
       "    <tr>\n",
       "      <th>75%</th>\n",
       "      <td>102.500000</td>\n",
       "      <td>2.000000</td>\n",
       "    </tr>\n",
       "    <tr>\n",
       "      <th>max</th>\n",
       "      <td>115.400000</td>\n",
       "      <td>3.000000</td>\n",
       "    </tr>\n",
       "  </tbody>\n",
       "</table>\n",
       "</div>"
      ],
      "text/plain": [
       "       TinggiBadan  StatusGizi\n",
       "count   377.000000  377.000000\n",
       "mean     94.938462    0.793103\n",
       "std      10.045854    1.157609\n",
       "min      76.100000    0.000000\n",
       "25%      87.400000    0.000000\n",
       "50%      94.600000    0.000000\n",
       "75%     102.500000    2.000000\n",
       "max     115.400000    3.000000"
      ]
     },
     "execution_count": 10,
     "metadata": {},
     "output_type": "execute_result"
    }
   ],
   "source": [
    "#shahla_202131177\n",
    "data.describe()"
   ]
  },
  {
   "cell_type": "code",
   "execution_count": 11,
   "id": "5223e8a0",
   "metadata": {},
   "outputs": [
    {
     "name": "stdout",
     "output_type": "stream",
     "text": [
      "<class 'pandas.core.frame.DataFrame'>\n",
      "Index: 377 entries, 0 to 499\n",
      "Data columns (total 2 columns):\n",
      " #   Column       Non-Null Count  Dtype  \n",
      "---  ------       --------------  -----  \n",
      " 0   TinggiBadan  377 non-null    float64\n",
      " 1   StatusGizi   377 non-null    int32  \n",
      "dtypes: float64(1), int32(1)\n",
      "memory usage: 7.4 KB\n"
     ]
    }
   ],
   "source": [
    "#shahla_202131177\n",
    "data.info()"
   ]
  },
  {
   "cell_type": "markdown",
   "id": "6c94bb27",
   "metadata": {},
   "source": [
    "# Membuat Nilai X"
   ]
  },
  {
   "cell_type": "code",
   "execution_count": 12,
   "id": "72d1f776",
   "metadata": {},
   "outputs": [],
   "source": [
    "#shahla_202131177\n",
    "x_array = np.array(data)"
   ]
  },
  {
   "cell_type": "markdown",
   "id": "7c677cb5",
   "metadata": {},
   "source": [
    "# Visualisasi Pesebaran Data"
   ]
  },
  {
   "cell_type": "code",
   "execution_count": 13,
   "id": "320ac11d",
   "metadata": {},
   "outputs": [
    {
     "data": {
      "text/plain": [
       "<function matplotlib.pyplot.show(close=None, block=None)>"
      ]
     },
     "execution_count": 13,
     "metadata": {},
     "output_type": "execute_result"
    },
    {
     "data": {
      "image/png": "[encoded data removed]",
      "text/plain": [
       "<Figure size 640x480 with 1 Axes>"
      ]
     },
     "metadata": {},
     "output_type": "display_data"
    }
   ],
   "source": [
    "plt.scatter(data.TinggiBadan, data.StatusGizi)\n",
    "plt.show"
   ]
  },
  {
   "cell_type": "markdown",
   "id": "eb8b0d15",
   "metadata": {},
   "source": [
    "# Standarisasi"
   ]
  },
  {
   "cell_type": "code",
   "execution_count": 14,
   "id": "39517ebb",
   "metadata": {},
   "outputs": [
    {
     "data": {
      "image/png": "[encoded data removed]",
      "text/plain": [
       "<Figure size 640x480 with 1 Axes>"
      ]
     },
     "metadata": {},
     "output_type": "display_data"
    }
   ],
   "source": [
    "#shahla_202131177\n",
    "from sklearn.preprocessing import StandardScaler\n",
    "scaler = StandardScaler()\n",
    "x_scaled = scaler.fit_transform(x_array)\n",
    "plt.scatter(x_scaled[:,0], x_scaled[:,1], s=10)\n",
    "plt.show()"
   ]
  },
  {
   "cell_type": "markdown",
   "id": "2c37ca41",
   "metadata": {},
   "source": [
    "# Cek SUM OF SQUARE ERROR Dari Tiap Pembagian Jumlah Cluster"
   ]
  },
  {
   "cell_type": "code",
   "execution_count": 15,
   "id": "5d20d941",
   "metadata": {},
   "outputs": [
    {
     "name": "stdout",
     "output_type": "stream",
     "text": [
      "1 754.0000000000001\n",
      "2 411.26340789549266\n",
      "3 216.8970003572669\n",
      "4 146.9146208286777\n",
      "5 116.74074539480608\n",
      "6 86.4587867994234\n",
      "7 67.92404162106564\n",
      "8 59.07586899265664\n",
      "9 46.10626263025601\n"
     ]
    }
   ],
   "source": [
    "#shahla_202131177\n",
    "from sklearn.cluster import KMeans\n",
    "sse = []\n",
    "index =  range(1,10)\n",
    "for i in index :\n",
    "    kmeans = KMeans (n_clusters = i, random_state = 0, n_init=\"auto\")\n",
    "    kmeans.fit(x_scaled)\n",
    "    sse_ = kmeans.inertia_\n",
    "    sse.append(sse_)\n",
    "    print(i,sse_)"
   ]
  },
  {
   "cell_type": "code",
   "execution_count": 16,
   "id": "e979fd62",
   "metadata": {},
   "outputs": [
    {
     "data": {
      "image/png": "[encoded data removed]",
      "text/plain": [
       "<Figure size 640x480 with 1 Axes>"
      ]
     },
     "metadata": {},
     "output_type": "display_data"
    }
   ],
   "source": [
    "#shahla_202131177\n",
    "plt.plot(index, sse)\n",
    "plt.show()"
   ]
  },
  {
   "cell_type": "markdown",
   "id": "b15be34c",
   "metadata": {},
   "source": [
    "# Membuat Model"
   ]
  },
  {
   "cell_type": "code",
   "execution_count": 17,
   "id": "929c12d5",
   "metadata": {},
   "outputs": [
    {
     "data": {
      "text/html": [
       "<style>#sk-container-id-1 {color: black;}#sk-container-id-1 pre{padding: 0;}#sk-container-id-1 div.sk-toggleable {background-color: white;}#sk-container-id-1 label.sk-toggleable__label {cursor: pointer;display: block;width: 100%;margin-bottom: 0;padding: 0.3em;box-sizing: border-box;text-align: center;}#sk-container-id-1 label.sk-toggleable__label-arrow:before {content: \"▸\";float: left;margin-right: 0.25em;color: #696969;}#sk-container-id-1 label.sk-toggleable__label-arrow:hover:before {color: black;}#sk-container-id-1 div.sk-estimator:hover label.sk-toggleable__label-arrow:before {color: black;}#sk-container-id-1 div.sk-toggleable__content {max-height: 0;max-width: 0;overflow: hidden;text-align: left;background-color: #f0f8ff;}#sk-container-id-1 div.sk-toggleable__content pre {margin: 0.2em;color: black;border-radius: 0.25em;background-color: #f0f8ff;}#sk-container-id-1 input.sk-toggleable__control:checked~div.sk-toggleable__content {max-height: 200px;max-width: 100%;overflow: auto;}#sk-container-id-1 input.sk-toggleable__control:checked~label.sk-toggleable__label-arrow:before {content: \"▾\";}#sk-container-id-1 div.sk-estimator input.sk-toggleable__control:checked~label.sk-toggleable__label {background-color: #d4ebff;}#sk-container-id-1 div.sk-label input.sk-toggleable__control:checked~label.sk-toggleable__label {background-color: #d4ebff;}#sk-container-id-1 input.sk-hidden--visually {border: 0;clip: rect(1px 1px 1px 1px);clip: rect(1px, 1px, 1px, 1px);height: 1px;margin: -1px;overflow: hidden;padding: 0;position: absolute;width: 1px;}#sk-container-id-1 div.sk-estimator {font-family: monospace;background-color: #f0f8ff;border: 1px dotted black;border-radius: 0.25em;box-sizing: border-box;margin-bottom: 0.5em;}#sk-container-id-1 div.sk-estimator:hover {background-color: #d4ebff;}#sk-container-id-1 div.sk-parallel-item::after {content: \"\";width: 100%;border-bottom: 1px solid gray;flex-grow: 1;}#sk-container-id-1 div.sk-label:hover label.sk-toggleable__label {background-color: #d4ebff;}#sk-container-id-1 div.sk-serial::before {content: \"\";position: absolute;border-left: 1px solid gray;box-sizing: border-box;top: 0;bottom: 0;left: 50%;z-index: 0;}#sk-container-id-1 div.sk-serial {display: flex;flex-direction: column;align-items: center;background-color: white;padding-right: 0.2em;padding-left: 0.2em;position: relative;}#sk-container-id-1 div.sk-item {position: relative;z-index: 1;}#sk-container-id-1 div.sk-parallel {display: flex;align-items: stretch;justify-content: center;background-color: white;position: relative;}#sk-container-id-1 div.sk-item::before, #sk-container-id-1 div.sk-parallel-item::before {content: \"\";position: absolute;border-left: 1px solid gray;box-sizing: border-box;top: 0;bottom: 0;left: 50%;z-index: -1;}#sk-container-id-1 div.sk-parallel-item {display: flex;flex-direction: column;z-index: 1;position: relative;background-color: white;}#sk-container-id-1 div.sk-parallel-item:first-child::after {align-self: flex-end;width: 50%;}#sk-container-id-1 div.sk-parallel-item:last-child::after {align-self: flex-start;width: 50%;}#sk-container-id-1 div.sk-parallel-item:only-child::after {width: 0;}#sk-container-id-1 div.sk-dashed-wrapped {border: 1px dashed gray;margin: 0 0.4em 0.5em 0.4em;box-sizing: border-box;padding-bottom: 0.4em;background-color: white;}#sk-container-id-1 div.sk-label label {font-family: monospace;font-weight: bold;display: inline-block;line-height: 1.2em;}#sk-container-id-1 div.sk-label-container {text-align: center;}#sk-container-id-1 div.sk-container {/* jupyter's `normalize.less` sets `[hidden] { display: none; }` but bootstrap.min.css set `[hidden] { display: none !important; }` so we also need the `!important` here to be able to override the default hidden behavior on the sphinx rendered scikit-learn.org. See: https://github.com/scikit-learn/scikit-learn/issues/21755 */display: inline-block !important;position: relative;}#sk-container-id-1 div.sk-text-repr-fallback {display: none;}</style><div id=\"sk-container-id-1\" class=\"sk-top-container\"><div class=\"sk-text-repr-fallback\"><pre>KMeans(n_clusters=3, n_init=&#x27;auto&#x27;, random_state=0)</pre><b>In a Jupyter environment, please rerun this cell to show the HTML representation or trust the notebook. <br />On GitHub, the HTML representation is unable to render, please try loading this page with nbviewer.org.</b></div><div class=\"sk-container\" hidden><div class=\"sk-item\"><div class=\"sk-estimator sk-toggleable\"><input class=\"sk-toggleable__control sk-hidden--visually\" id=\"sk-estimator-id-1\" type=\"checkbox\" checked><label for=\"sk-estimator-id-1\" class=\"sk-toggleable__label sk-toggleable__label-arrow\">KMeans</label><div class=\"sk-toggleable__content\"><pre>KMeans(n_clusters=3, n_init=&#x27;auto&#x27;, random_state=0)</pre></div></div></div></div></div>"
      ],
      "text/plain": [
       "KMeans(n_clusters=3, n_init='auto', random_state=0)"
      ]
     },
     "execution_count": 17,
     "metadata": {},
     "output_type": "execute_result"
    }
   ],
   "source": [
    "#shahla_202131177\n",
    "kmeans = KMeans (n_clusters = 3, random_state = 0, n_init='auto')\n",
    "kmeans.fit(x_scaled)"
   ]
  },
  {
   "cell_type": "markdown",
   "id": "b4e296b3",
   "metadata": {},
   "source": [
    "# Melihat Cluster Pusat"
   ]
  },
  {
   "cell_type": "code",
   "execution_count": 18,
   "id": "4ed222ed",
   "metadata": {},
   "outputs": [
    {
     "data": {
      "text/plain": [
       "array([[-0.78019771, -0.46818127],\n",
       "       [ 0.89812508, -0.68603248],\n",
       "       [-0.18944364,  1.53944647]])"
      ]
     },
     "execution_count": 18,
     "metadata": {},
     "output_type": "execute_result"
    }
   ],
   "source": [
    "#shahla_202131177\n",
    "kmeans.cluster_centers_"
   ]
  },
  {
   "cell_type": "markdown",
   "id": "9aa2c004",
   "metadata": {},
   "source": [
    "# Visualisasi Persebaran Data Setelah Clustering"
   ]
  },
  {
   "cell_type": "code",
   "execution_count": 19,
   "id": "b116ffa4",
   "metadata": {},
   "outputs": [
    {
     "data": {
      "image/png": "[encoded data removed]",
      "text/plain": [
       "<Figure size 640x480 with 2 Axes>"
      ]
     },
     "metadata": {},
     "output_type": "display_data"
    }
   ],
   "source": [
    "#shahla_202131177\n",
    "output = plt.scatter(x_scaled[:,0],x_scaled[:,1], s=10, c = kmeans.labels_)\n",
    "\n",
    "centers = kmeans.cluster_centers_\n",
    "plt.scatter(centers[:,0], centers[:,1], c=\"red\", s=10)\n",
    "plt.title(\"KMEANS Clustering Toddler Stunting\")\n",
    "plt.xlabel(\"Tinggi Badan\")\n",
    "plt.ylabel(\"Status Gizi\")\n",
    "plt.colorbar(output)\n",
    "plt.show()"
   ]
  },
  {
   "cell_type": "markdown",
   "id": "85b33209",
   "metadata": {},
   "source": [
    "# Evaluasi Model"
   ]
  },
  {
   "cell_type": "code",
   "execution_count": 20,
   "id": "a4a67f8a",
   "metadata": {},
   "outputs": [
    {
     "data": {
      "text/plain": [
       "0.7082916117982538"
      ]
     },
     "execution_count": 20,
     "metadata": {},
     "output_type": "execute_result"
    }
   ],
   "source": [
    "#shahla_202131177\n",
    "from sklearn.metrics import davies_bouldin_score\n",
    "labels = kmeans.labels_\n",
    "davies_bouldin_score(x_scaled, labels)"
   ]
  },
  {
   "cell_type": "code",
   "execution_count": null,
   "id": "f3ba1b6a",
   "metadata": {},
   "outputs": [],
   "source": []
  }
 ],
 "metadata": {
  "kernelspec": {
   "display_name": "Python 3 (ipykernel)",
   "language": "python",
   "name": "python3"
  },
  "language_info": {
   "codemirror_mode": {
    "name": "ipython",
    "version": 3
   },
   "file_extension": ".py",
   "mimetype": "text/x-python",
   "name": "python",
   "nbconvert_exporter": "python",
   "pygments_lexer": "ipython3",
   "version": "3.11.5"
  }
 },
 "nbformat": 4,
 "nbformat_minor": 5
}
